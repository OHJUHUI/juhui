{
 "cells": [
  {
   "cell_type": "code",
   "execution_count": 1,
   "id": "c7d78666",
   "metadata": {},
   "outputs": [],
   "source": [
    "strVal = 'data science'               # 문자열 변수\n",
    "nVal = 12345                          # 정수형 변수\n",
    "fVal = 1.2                            # 실수형 변수\n",
    "lVal = ['data', 'science']            # 리스트\n",
    "dVal = {'lecture' : 'data science'}   # 딕셔너리\n",
    "bVal = True                           # 논리형 변수(참/거짓)"
   ]
  },
  {
   "cell_type": "code",
   "execution_count": 2,
   "id": "dafe16bb",
   "metadata": {},
   "outputs": [],
   "source": [
    "# 기본적인 주석"
   ]
  },
  {
   "cell_type": "code",
   "execution_count": 3,
   "id": "56c60e6b",
   "metadata": {},
   "outputs": [
    {
     "data": {
      "text/plain": [
       "'\\n여러 라인을 주석으로 처리할 경우\\n'"
      ]
     },
     "execution_count": 3,
     "metadata": {},
     "output_type": "execute_result"
    }
   ],
   "source": [
    "'''\n",
    "여러 라인을 주석으로 처리할 경우\n",
    "'''"
   ]
  },
  {
   "cell_type": "code",
   "execution_count": 4,
   "id": "d32dc65a",
   "metadata": {},
   "outputs": [
    {
     "data": {
      "text/plain": [
       "'data science'"
      ]
     },
     "execution_count": 4,
     "metadata": {},
     "output_type": "execute_result"
    }
   ],
   "source": [
    "strVal"
   ]
  },
  {
   "cell_type": "code",
   "execution_count": 5,
   "id": "5e291ab1",
   "metadata": {},
   "outputs": [
    {
     "data": {
      "text/plain": [
       "12345"
      ]
     },
     "execution_count": 5,
     "metadata": {},
     "output_type": "execute_result"
    }
   ],
   "source": [
    "nVal"
   ]
  },
  {
   "cell_type": "code",
   "execution_count": 6,
   "id": "1c098694",
   "metadata": {},
   "outputs": [
    {
     "data": {
      "text/plain": [
       "1.2"
      ]
     },
     "execution_count": 6,
     "metadata": {},
     "output_type": "execute_result"
    }
   ],
   "source": [
    "fVal"
   ]
  },
  {
   "cell_type": "code",
   "execution_count": 7,
   "id": "71f6fedf",
   "metadata": {},
   "outputs": [
    {
     "data": {
      "text/plain": [
       "['data', 'science']"
      ]
     },
     "execution_count": 7,
     "metadata": {},
     "output_type": "execute_result"
    }
   ],
   "source": [
    "lVal"
   ]
  },
  {
   "cell_type": "code",
   "execution_count": 8,
   "id": "2be78458",
   "metadata": {},
   "outputs": [
    {
     "data": {
      "text/plain": [
       "{'lecture': 'data science'}"
      ]
     },
     "execution_count": 8,
     "metadata": {},
     "output_type": "execute_result"
    }
   ],
   "source": [
    "dVal"
   ]
  },
  {
   "cell_type": "code",
   "execution_count": 9,
   "id": "5880ede5",
   "metadata": {},
   "outputs": [
    {
     "data": {
      "text/plain": [
       "True"
      ]
     },
     "execution_count": 9,
     "metadata": {},
     "output_type": "execute_result"
    }
   ],
   "source": [
    "bVal"
   ]
  },
  {
   "cell_type": "code",
   "execution_count": 10,
   "id": "413dab9b",
   "metadata": {},
   "outputs": [
    {
     "name": "stdout",
     "output_type": "stream",
     "text": [
      "strVal :  data science\n",
      "nVal :  12345\n",
      "fVal :  1.2\n",
      "lVal :  ['data', 'science']\n",
      "dVal :  {'lecture': 'data science'}\n",
      "bVal :  True\n"
     ]
    }
   ],
   "source": [
    "print('strVal : ', strVal)\n",
    "print('nVal : ', nVal)\n",
    "print('fVal : ', fVal)\n",
    "print('lVal : ', lVal)\n",
    "print('dVal : ', dVal)\n",
    "print('bVal : ', bVal)"
   ]
  },
  {
   "cell_type": "code",
   "execution_count": 11,
   "id": "12074a5f",
   "metadata": {},
   "outputs": [
    {
     "name": "stdout",
     "output_type": "stream",
     "text": [
      "strVal :  <class 'str'>\n",
      "nVal :  <class 'int'>\n",
      "fVal :  <class 'float'>\n",
      "lVal :  <class 'list'>\n",
      "dVal :  <class 'dict'>\n",
      "bVal :  <class 'bool'>\n"
     ]
    }
   ],
   "source": [
    "print('strVal : ', type(strVal))\n",
    "print('nVal : ', type(nVal))\n",
    "print('fVal : ', type(fVal))\n",
    "print('lVal : ', type(lVal))\n",
    "print('dVal : ', type(dVal))\n",
    "print('bVal : ', type(bVal))"
   ]
  },
  {
   "cell_type": "code",
   "execution_count": 12,
   "id": "77d42877",
   "metadata": {},
   "outputs": [],
   "source": [
    "nVal = 16\n",
    "fVal = 3.14"
   ]
  },
  {
   "cell_type": "code",
   "execution_count": 13,
   "id": "d4f1c694",
   "metadata": {},
   "outputs": [
    {
     "name": "stdout",
     "output_type": "stream",
     "text": [
      "10진수 표현 :  16\n",
      "2진수 표현 :  0b10000\n",
      "8진수 표현 :  0o20\n",
      "16진수 표현 :  0x10\n"
     ]
    }
   ],
   "source": [
    "print('10진수 표현 : ', nVal)\n",
    "print('2진수 표현 : ', bin(nVal))\n",
    "print('8진수 표현 : ', oct(nVal))\n",
    "print('16진수 표현 : ', hex(nVal))"
   ]
  },
  {
   "cell_type": "code",
   "execution_count": 14,
   "id": "ad2166f2",
   "metadata": {},
   "outputs": [],
   "source": [
    "btVal = True\n",
    "bfVal = False"
   ]
  },
  {
   "cell_type": "code",
   "execution_count": 15,
   "id": "9cbf4dfb",
   "metadata": {},
   "outputs": [
    {
     "ename": "NameError",
     "evalue": "name 'TRUE' is not defined",
     "output_type": "error",
     "traceback": [
      "\u001b[1;31m---------------------------------------------------------------------------\u001b[0m",
      "\u001b[1;31mNameError\u001b[0m                                 Traceback (most recent call last)",
      "Input \u001b[1;32mIn [15]\u001b[0m, in \u001b[0;36m<cell line: 1>\u001b[1;34m()\u001b[0m\n\u001b[1;32m----> 1\u001b[0m btVal \u001b[38;5;241m=\u001b[39m \u001b[43mTRUE\u001b[49m            \u001b[38;5;66;03m# 논리형 변수(참) - 오류\u001b[39;00m\n\u001b[0;32m      2\u001b[0m bfVal \u001b[38;5;241m=\u001b[39m FALSE\n",
      "\u001b[1;31mNameError\u001b[0m: name 'TRUE' is not defined"
     ]
    }
   ],
   "source": [
    "btVal = TRUE            # 논리형 변수(참) - 오류\n",
    "bfVal = FALSE           # 논리형 변수(거짓) - 오류"
   ]
  },
  {
   "cell_type": "code",
   "execution_count": 16,
   "id": "cc69107c",
   "metadata": {},
   "outputs": [
    {
     "ename": "NameError",
     "evalue": "name 'true' is not defined",
     "output_type": "error",
     "traceback": [
      "\u001b[1;31m---------------------------------------------------------------------------\u001b[0m",
      "\u001b[1;31mNameError\u001b[0m                                 Traceback (most recent call last)",
      "Input \u001b[1;32mIn [16]\u001b[0m, in \u001b[0;36m<cell line: 1>\u001b[1;34m()\u001b[0m\n\u001b[1;32m----> 1\u001b[0m btVal \u001b[38;5;241m=\u001b[39m \u001b[43mtrue\u001b[49m             \u001b[38;5;66;03m# 논리형 변수(참) - 오류\u001b[39;00m\n\u001b[0;32m      2\u001b[0m bfVal \u001b[38;5;241m=\u001b[39m false\n",
      "\u001b[1;31mNameError\u001b[0m: name 'true' is not defined"
     ]
    }
   ],
   "source": [
    "btVal = true             # 논리형 변수(참) - 오류\n",
    "bfVal = false            # 논리형 변수(거짓) - 오류"
   ]
  },
  {
   "cell_type": "code",
   "execution_count": 17,
   "id": "04893b6d",
   "metadata": {},
   "outputs": [
    {
     "data": {
      "text/plain": [
       "False"
      ]
     },
     "execution_count": 17,
     "metadata": {},
     "output_type": "execute_result"
    }
   ],
   "source": [
    "10 == 11"
   ]
  },
  {
   "cell_type": "code",
   "execution_count": 18,
   "id": "7039630b",
   "metadata": {},
   "outputs": [
    {
     "data": {
      "text/plain": [
       "True"
      ]
     },
     "execution_count": 18,
     "metadata": {},
     "output_type": "execute_result"
    }
   ],
   "source": [
    "10 != 11"
   ]
  },
  {
   "cell_type": "code",
   "execution_count": 19,
   "id": "5c0c10e3",
   "metadata": {},
   "outputs": [
    {
     "data": {
      "text/plain": [
       "False"
      ]
     },
     "execution_count": 19,
     "metadata": {},
     "output_type": "execute_result"
    }
   ],
   "source": [
    "10 >= 11"
   ]
  },
  {
   "cell_type": "code",
   "execution_count": 20,
   "id": "0cbcac7a",
   "metadata": {},
   "outputs": [
    {
     "data": {
      "text/plain": [
       "True"
      ]
     },
     "execution_count": 20,
     "metadata": {},
     "output_type": "execute_result"
    }
   ],
   "source": [
    "10 <= 11"
   ]
  },
  {
   "cell_type": "code",
   "execution_count": 21,
   "id": "aeafdb43",
   "metadata": {},
   "outputs": [
    {
     "data": {
      "text/plain": [
       "False"
      ]
     },
     "execution_count": 21,
     "metadata": {},
     "output_type": "execute_result"
    }
   ],
   "source": [
    "10 > 11"
   ]
  },
  {
   "cell_type": "code",
   "execution_count": 22,
   "id": "b67f6bf8",
   "metadata": {},
   "outputs": [
    {
     "data": {
      "text/plain": [
       "True"
      ]
     },
     "execution_count": 22,
     "metadata": {},
     "output_type": "execute_result"
    }
   ],
   "source": [
    "10 < 11"
   ]
  },
  {
   "cell_type": "code",
   "execution_count": 23,
   "id": "602eb2c7",
   "metadata": {},
   "outputs": [],
   "source": [
    "nBig = 100\n",
    "nSmall = 10"
   ]
  },
  {
   "cell_type": "code",
   "execution_count": 24,
   "id": "6154ada9",
   "metadata": {},
   "outputs": [
    {
     "name": "stdout",
     "output_type": "stream",
     "text": [
      "False\n",
      "True\n",
      "True\n",
      "False\n",
      "True\n",
      "False\n"
     ]
    }
   ],
   "source": [
    "print(nBig == nSmall)\n",
    "print(nBig != nSmall)\n",
    "print(nBig >= nSmall)\n",
    "print(nBig <= nSmall)\n",
    "print(nBig > nSmall)\n",
    "print(nBig < nSmall)"
   ]
  },
  {
   "cell_type": "code",
   "execution_count": 25,
   "id": "d27531a6",
   "metadata": {},
   "outputs": [
    {
     "ename": "SyntaxError",
     "evalue": "invalid syntax (692807662.py, line 1)",
     "output_type": "error",
     "traceback": [
      "\u001b[1;36m  Input \u001b[1;32mIn [25]\u001b[1;36m\u001b[0m\n\u001b[1;33m    print(nBig =< nSmall)     # 부등호 순서 바뀜 -> 오류\u001b[0m\n\u001b[1;37m                ^\u001b[0m\n\u001b[1;31mSyntaxError\u001b[0m\u001b[1;31m:\u001b[0m invalid syntax\n"
     ]
    }
   ],
   "source": [
    "print(nBig =< nSmall)     # 부등호 순서 바뀜 -> 오류"
   ]
  },
  {
   "cell_type": "code",
   "execution_count": 26,
   "id": "439fa950",
   "metadata": {},
   "outputs": [
    {
     "ename": "SyntaxError",
     "evalue": "invalid syntax (1413718644.py, line 1)",
     "output_type": "error",
     "traceback": [
      "\u001b[1;36m  Input \u001b[1;32mIn [26]\u001b[1;36m\u001b[0m\n\u001b[1;33m    print(nBig => nSmall)     # 부등호 순서 바뀜 -> 오류\u001b[0m\n\u001b[1;37m                ^\u001b[0m\n\u001b[1;31mSyntaxError\u001b[0m\u001b[1;31m:\u001b[0m invalid syntax\n"
     ]
    }
   ],
   "source": [
    "print(nBig => nSmall)     # 부등호 순서 바뀜 -> 오류"
   ]
  },
  {
   "cell_type": "code",
   "execution_count": 27,
   "id": "1eaaa897",
   "metadata": {},
   "outputs": [],
   "source": [
    "strData = 'data'\n",
    "strSci = \"Science\""
   ]
  },
  {
   "cell_type": "code",
   "execution_count": 28,
   "id": "a41a5fa7",
   "metadata": {},
   "outputs": [],
   "source": [
    "strLecture = strData + strSci"
   ]
  },
  {
   "cell_type": "code",
   "execution_count": 29,
   "id": "886c530f",
   "metadata": {},
   "outputs": [
    {
     "data": {
      "text/plain": [
       "'dataScience'"
      ]
     },
     "execution_count": 29,
     "metadata": {},
     "output_type": "execute_result"
    }
   ],
   "source": [
    "strLecture"
   ]
  },
  {
   "cell_type": "code",
   "execution_count": 30,
   "id": "8f603746",
   "metadata": {},
   "outputs": [
    {
     "data": {
      "text/plain": [
       "'data Science'"
      ]
     },
     "execution_count": 30,
     "metadata": {},
     "output_type": "execute_result"
    }
   ],
   "source": [
    "strLecture = strData +\" \"+ strSci\n",
    "strLecture"
   ]
  },
  {
   "cell_type": "code",
   "execution_count": 31,
   "id": "4a823890",
   "metadata": {},
   "outputs": [
    {
     "data": {
      "text/plain": [
       "['data', 'Science']"
      ]
     },
     "execution_count": 31,
     "metadata": {},
     "output_type": "execute_result"
    }
   ],
   "source": [
    "strLecture.split()              "
   ]
  },
  {
   "cell_type": "code",
   "execution_count": 32,
   "id": "89af12c4",
   "metadata": {},
   "outputs": [],
   "source": [
    "lSeperate = strLecture.split() "
   ]
  },
  {
   "cell_type": "code",
   "execution_count": 33,
   "id": "36074334",
   "metadata": {},
   "outputs": [
    {
     "data": {
      "text/plain": [
       "list"
      ]
     },
     "execution_count": 33,
     "metadata": {},
     "output_type": "execute_result"
    }
   ],
   "source": [
    "type(lSeperate)"
   ]
  },
  {
   "cell_type": "code",
   "execution_count": 34,
   "id": "69dace68",
   "metadata": {},
   "outputs": [],
   "source": [
    "strHello = \"안녕하세요. 반갑습니다.\""
   ]
  },
  {
   "cell_type": "code",
   "execution_count": 35,
   "id": "07ed9d70",
   "metadata": {},
   "outputs": [
    {
     "data": {
      "text/plain": [
       "7"
      ]
     },
     "execution_count": 35,
     "metadata": {},
     "output_type": "execute_result"
    }
   ],
   "source": [
    "strHello.find(\"반갑\")"
   ]
  },
  {
   "cell_type": "code",
   "execution_count": 36,
   "id": "d9424cd5",
   "metadata": {},
   "outputs": [
    {
     "data": {
      "text/plain": [
       "-1"
      ]
     },
     "execution_count": 36,
     "metadata": {},
     "output_type": "execute_result"
    }
   ],
   "source": [
    "strHello.find(\"hello\")"
   ]
  },
  {
   "cell_type": "code",
   "execution_count": 37,
   "id": "f36b64ce",
   "metadata": {},
   "outputs": [
    {
     "data": {
      "text/plain": [
       "True"
      ]
     },
     "execution_count": 37,
     "metadata": {},
     "output_type": "execute_result"
    }
   ],
   "source": [
    "\"반갑\" in strHello"
   ]
  },
  {
   "cell_type": "code",
   "execution_count": 38,
   "id": "d871fc6b",
   "metadata": {},
   "outputs": [
    {
     "data": {
      "text/plain": [
       "'안녕하세요? 반갑습니다?'"
      ]
     },
     "execution_count": 38,
     "metadata": {},
     "output_type": "execute_result"
    }
   ],
   "source": [
    "strHello.replace('.', '?')"
   ]
  },
  {
   "cell_type": "code",
   "execution_count": 39,
   "id": "fcd92820",
   "metadata": {},
   "outputs": [
    {
     "data": {
      "text/plain": [
       "'안녕하셔유. 반갑습니다.'"
      ]
     },
     "execution_count": 39,
     "metadata": {},
     "output_type": "execute_result"
    }
   ],
   "source": [
    "strHello.replace('.', '?')                  \n",
    "strHello.replace(\"하세요\", \"하셔유\")"
   ]
  },
  {
   "cell_type": "code",
   "execution_count": 40,
   "id": "5283e6a3",
   "metadata": {},
   "outputs": [
    {
     "data": {
      "text/plain": [
       "'안녕하세요. 반갑습니다.'"
      ]
     },
     "execution_count": 40,
     "metadata": {},
     "output_type": "execute_result"
    }
   ],
   "source": [
    "strHello"
   ]
  },
  {
   "cell_type": "code",
   "execution_count": 41,
   "id": "a4a0710d",
   "metadata": {},
   "outputs": [
    {
     "data": {
      "text/plain": [
       "'안녕하셔유? 반갑습니다?'"
      ]
     },
     "execution_count": 41,
     "metadata": {},
     "output_type": "execute_result"
    }
   ],
   "source": [
    "strNewHello = strHello.replace('.', '?')               \n",
    "strNewHello = strNewHello.replace(\"하세요\", \"하셔유\")\n",
    "strNewHello"
   ]
  },
  {
   "cell_type": "code",
   "execution_count": 42,
   "id": "e5241bf3",
   "metadata": {},
   "outputs": [
    {
     "data": {
      "text/plain": [
       "'안녕하세요. '"
      ]
     },
     "execution_count": 42,
     "metadata": {},
     "output_type": "execute_result"
    }
   ],
   "source": [
    "strHello.strip('반갑습니다.')"
   ]
  },
  {
   "cell_type": "code",
   "execution_count": 43,
   "id": "d4488902",
   "metadata": {},
   "outputs": [
    {
     "data": {
      "text/plain": [
       "'안녕하세요. 반갑습니다.'"
      ]
     },
     "execution_count": 43,
     "metadata": {},
     "output_type": "execute_result"
    }
   ],
   "source": [
    "strHello"
   ]
  },
  {
   "cell_type": "code",
   "execution_count": 44,
   "id": "1b79d982",
   "metadata": {},
   "outputs": [
    {
     "name": "stdout",
     "output_type": "stream",
     "text": [
      "[1, 2, 3, 4, 5]\n",
      "type :  <class 'list'>\n"
     ]
    }
   ],
   "source": [
    "lnData = [1,2,3,4,5]\n",
    "print(lnData)\n",
    "print('type : ', type(lnData))"
   ]
  },
  {
   "cell_type": "code",
   "execution_count": 45,
   "id": "f2f53fbd",
   "metadata": {},
   "outputs": [
    {
     "name": "stdout",
     "output_type": "stream",
     "text": [
      "1\n",
      "4\n"
     ]
    }
   ],
   "source": [
    "print(lnData[0]) \n",
    "print(lnData[3])"
   ]
  },
  {
   "cell_type": "code",
   "execution_count": 46,
   "id": "009583ef",
   "metadata": {},
   "outputs": [
    {
     "name": "stdout",
     "output_type": "stream",
     "text": [
      "[5, 2, 3, 4, 5]\n"
     ]
    }
   ],
   "source": [
    "lnData[0] = lnData[4]\n",
    "print(lnData)"
   ]
  },
  {
   "cell_type": "code",
   "execution_count": 47,
   "id": "dd64b2de",
   "metadata": {},
   "outputs": [
    {
     "name": "stdout",
     "output_type": "stream",
     "text": [
      "[3, 4]\n"
     ]
    }
   ],
   "source": [
    "print(lnData[2:4])"
   ]
  },
  {
   "cell_type": "code",
   "execution_count": 48,
   "id": "265e0a54",
   "metadata": {},
   "outputs": [
    {
     "data": {
      "text/plain": [
       "[1, 2, 3, 4, 5, 'a', 'b', 'c']"
      ]
     },
     "execution_count": 48,
     "metadata": {},
     "output_type": "execute_result"
    }
   ],
   "source": [
    "lnData = [1,2,3,4,5]\n",
    "lstrData=['a', 'b', 'c']\n",
    "lnData + lstrData"
   ]
  },
  {
   "cell_type": "code",
   "execution_count": 49,
   "id": "c7627a21",
   "metadata": {},
   "outputs": [
    {
     "data": {
      "text/plain": [
       "[1, 2, 3, 4, 5, 10]"
      ]
     },
     "execution_count": 49,
     "metadata": {},
     "output_type": "execute_result"
    }
   ],
   "source": [
    "lnData.append(10)\n",
    "lnData"
   ]
  },
  {
   "cell_type": "code",
   "execution_count": 50,
   "id": "3ecde5a5",
   "metadata": {},
   "outputs": [
    {
     "data": {
      "text/plain": [
       "['python', 1, 2, 3, 4, 5, 10]"
      ]
     },
     "execution_count": 50,
     "metadata": {},
     "output_type": "execute_result"
    }
   ],
   "source": [
    "lnData.insert(0, 'python')\n",
    "lnData"
   ]
  },
  {
   "cell_type": "code",
   "execution_count": 51,
   "id": "65ed1d9b",
   "metadata": {},
   "outputs": [
    {
     "data": {
      "text/plain": [
       "[1, 2, 3, 4, 5, 10]"
      ]
     },
     "execution_count": 51,
     "metadata": {},
     "output_type": "execute_result"
    }
   ],
   "source": [
    "lnData.remove('python')\n",
    "lnData"
   ]
  },
  {
   "cell_type": "code",
   "execution_count": 52,
   "id": "60a42997",
   "metadata": {},
   "outputs": [
    {
     "data": {
      "text/plain": [
       "[1, 2, 3, 4, 5]"
      ]
     },
     "execution_count": 52,
     "metadata": {},
     "output_type": "execute_result"
    }
   ],
   "source": [
    "del lnData[5]\n",
    "lnData"
   ]
  },
  {
   "cell_type": "code",
   "execution_count": 53,
   "id": "bfea3597",
   "metadata": {},
   "outputs": [
    {
     "data": {
      "text/plain": [
       "[1, 2, 3, 4, 5]"
      ]
     },
     "execution_count": 53,
     "metadata": {},
     "output_type": "execute_result"
    }
   ],
   "source": [
    "lnData"
   ]
  },
  {
   "cell_type": "code",
   "execution_count": 54,
   "id": "f548788f",
   "metadata": {},
   "outputs": [
    {
     "data": {
      "text/plain": [
       "[2, 3, 4, 5]"
      ]
     },
     "execution_count": 54,
     "metadata": {},
     "output_type": "execute_result"
    }
   ],
   "source": [
    "lnData.pop(0) \n",
    "lnData"
   ]
  },
  {
   "cell_type": "code",
   "execution_count": 55,
   "id": "b1725b82",
   "metadata": {},
   "outputs": [
    {
     "data": {
      "text/plain": [
       "[2, 3, 4]"
      ]
     },
     "execution_count": 55,
     "metadata": {},
     "output_type": "execute_result"
    }
   ],
   "source": [
    "lnData.pop()\n",
    "lnData"
   ]
  },
  {
   "cell_type": "code",
   "execution_count": 56,
   "id": "68b282cb",
   "metadata": {},
   "outputs": [
    {
     "data": {
      "text/plain": [
       "[]"
      ]
     },
     "execution_count": 56,
     "metadata": {},
     "output_type": "execute_result"
    }
   ],
   "source": [
    "lnData.clear()\n",
    "lnData"
   ]
  },
  {
   "cell_type": "code",
   "execution_count": 57,
   "id": "fa5eb4a3",
   "metadata": {},
   "outputs": [
    {
     "name": "stdout",
     "output_type": "stream",
     "text": [
      "('사과', '딸기', '바나나', '토마토', '키위')\n",
      "<class 'tuple'>\n"
     ]
    }
   ],
   "source": [
    "tVal = (\"사과\", \"딸기\", \"바나나\", \"토마토\", \"키위\")\n",
    "\n",
    "print(tVal)\n",
    "print(type(tVal))"
   ]
  },
  {
   "cell_type": "code",
   "execution_count": 58,
   "id": "93b63d4d",
   "metadata": {},
   "outputs": [
    {
     "ename": "TypeError",
     "evalue": "'tuple' object does not support item assignment",
     "output_type": "error",
     "traceback": [
      "\u001b[1;31m---------------------------------------------------------------------------\u001b[0m",
      "\u001b[1;31mTypeError\u001b[0m                                 Traceback (most recent call last)",
      "Input \u001b[1;32mIn [58]\u001b[0m, in \u001b[0;36m<cell line: 1>\u001b[1;34m()\u001b[0m\n\u001b[1;32m----> 1\u001b[0m tVal[\u001b[38;5;241m0\u001b[39m] \u001b[38;5;241m=\u001b[39m \u001b[38;5;124m\"\u001b[39m\u001b[38;5;124m포도\u001b[39m\u001b[38;5;124m\"\u001b[39m\n",
      "\u001b[1;31mTypeError\u001b[0m: 'tuple' object does not support item assignment"
     ]
    }
   ],
   "source": [
    "tVal[0] = \"포도\""
   ]
  },
  {
   "cell_type": "code",
   "execution_count": 59,
   "id": "146e1259",
   "metadata": {},
   "outputs": [
    {
     "data": {
      "text/plain": [
       "3"
      ]
     },
     "execution_count": 59,
     "metadata": {},
     "output_type": "execute_result"
    }
   ],
   "source": [
    "tData = ( 1, 2, 3, 1, 2, 3, 4, 5, 1, 2, 7)\n",
    "tData.count(1)"
   ]
  },
  {
   "cell_type": "code",
   "execution_count": 60,
   "id": "6f1d6bda",
   "metadata": {},
   "outputs": [
    {
     "data": {
      "text/plain": [
       "5"
      ]
     },
     "execution_count": 60,
     "metadata": {},
     "output_type": "execute_result"
    }
   ],
   "source": [
    "len(tVal)"
   ]
  },
  {
   "cell_type": "code",
   "execution_count": 61,
   "id": "a06a5d15",
   "metadata": {},
   "outputs": [
    {
     "data": {
      "text/plain": [
       "11"
      ]
     },
     "execution_count": 61,
     "metadata": {},
     "output_type": "execute_result"
    }
   ],
   "source": [
    "len(tData)"
   ]
  },
  {
   "cell_type": "code",
   "execution_count": 62,
   "id": "c925f60c",
   "metadata": {},
   "outputs": [
    {
     "name": "stdout",
     "output_type": "stream",
     "text": [
      "(3, 1, 2)\n"
     ]
    }
   ],
   "source": [
    "print(tData[2:5])"
   ]
  },
  {
   "cell_type": "code",
   "execution_count": 63,
   "id": "0ab84df6",
   "metadata": {},
   "outputs": [
    {
     "name": "stdout",
     "output_type": "stream",
     "text": [
      "('사과', '딸기', '바나나', '토마토', '키위', 1, 2, 3, 1, 2, 3, 4, 5, 1, 2, 7)\n"
     ]
    }
   ],
   "source": [
    "tTuple = tVal+ tData\n",
    "print(tTuple)"
   ]
  },
  {
   "cell_type": "code",
   "execution_count": 64,
   "id": "17d8d887",
   "metadata": {},
   "outputs": [
    {
     "data": {
      "text/plain": [
       "(1, 2, 3, 1, 2, 3, 4, 5, 1, 2, 7, 1, 2, 3, 1, 2, 3, 4, 5, 1, 2, 7)"
      ]
     },
     "execution_count": 64,
     "metadata": {},
     "output_type": "execute_result"
    }
   ],
   "source": [
    "tData * 2"
   ]
  },
  {
   "cell_type": "code",
   "execution_count": 65,
   "id": "50ca70ad",
   "metadata": {},
   "outputs": [
    {
     "data": {
      "text/plain": [
       "(1, 2, 3, 1, 2, 3, 4, 5, 1, 2, 7)"
      ]
     },
     "execution_count": 65,
     "metadata": {},
     "output_type": "execute_result"
    }
   ],
   "source": [
    "tData"
   ]
  },
  {
   "cell_type": "code",
   "execution_count": 66,
   "id": "629debcd",
   "metadata": {},
   "outputs": [
    {
     "name": "stdout",
     "output_type": "stream",
     "text": [
      "(1, 2, 3, 1, 2, 3, 4, 5, 1, 2, 7, 1, 2, 3, 1, 2, 3, 4, 5, 1, 2, 7)\n"
     ]
    }
   ],
   "source": [
    "tData2 = tData * 2\n",
    "print(tData2)"
   ]
  },
  {
   "cell_type": "code",
   "execution_count": 67,
   "id": "c562f9a1",
   "metadata": {},
   "outputs": [
    {
     "name": "stdout",
     "output_type": "stream",
     "text": [
      "tVal memory =  0x1fbbf05d590\n",
      "tVal memory =  0x1fbbf0682c0\n",
      "('사과', '딸기', '바나나', '토마토', '키위', '사과', '딸기', '바나나', '토마토', '키위')\n"
     ]
    }
   ],
   "source": [
    "print(\"tVal memory = \", hex(id(tVal)))\n",
    "tVal = tVal * 2\n",
    "print(\"tVal memory = \", hex(id(tVal)))\n",
    "print(tVal)"
   ]
  },
  {
   "cell_type": "code",
   "execution_count": 68,
   "id": "b1e42874",
   "metadata": {},
   "outputs": [
    {
     "name": "stdout",
     "output_type": "stream",
     "text": [
      "tVal memory =  0x1fbbf0682c0\n",
      "tVal memory =  0x1fbbf008520\n",
      "('사과', '딸기', '바나나', '토마토', '키위', '사과', '딸기', '바나나', '토마토', '키위', '사과', '딸기', '바나나', '토마토', '키위', '사과', '딸기', '바나나', '토마토', '키위')\n"
     ]
    }
   ],
   "source": [
    "print(\"tVal memory = \", hex(id(tVal)))\n",
    "tVal = tVal + tVal\n",
    "print(\"tVal memory = \", hex(id(tVal)))\n",
    "print(tVal)"
   ]
  },
  {
   "cell_type": "code",
   "execution_count": 69,
   "id": "1ad98a4c",
   "metadata": {},
   "outputs": [
    {
     "name": "stdout",
     "output_type": "stream",
     "text": [
      "{1, 2, 3, 4, 5}\n",
      "<class 'set'>\n"
     ]
    }
   ],
   "source": [
    "sVal = {1, 2, 3, 4, 5}\n",
    "print(sVal)\n",
    "print(type(sVal))"
   ]
  },
  {
   "cell_type": "code",
   "execution_count": 70,
   "id": "e62d7d8f",
   "metadata": {},
   "outputs": [
    {
     "ename": "TypeError",
     "evalue": "'set' object is not subscriptable",
     "output_type": "error",
     "traceback": [
      "\u001b[1;31m---------------------------------------------------------------------------\u001b[0m",
      "\u001b[1;31mTypeError\u001b[0m                                 Traceback (most recent call last)",
      "Input \u001b[1;32mIn [70]\u001b[0m, in \u001b[0;36m<cell line: 1>\u001b[1;34m()\u001b[0m\n\u001b[1;32m----> 1\u001b[0m \u001b[43msVal\u001b[49m\u001b[43m[\u001b[49m\u001b[38;5;241;43m1\u001b[39;49m\u001b[43m:\u001b[49m\u001b[38;5;241;43m2\u001b[39;49m\u001b[43m]\u001b[49m\n",
      "\u001b[1;31mTypeError\u001b[0m: 'set' object is not subscriptable"
     ]
    }
   ],
   "source": [
    "sVal[1:2]"
   ]
  },
  {
   "cell_type": "code",
   "execution_count": 71,
   "id": "195cc53d",
   "metadata": {},
   "outputs": [
    {
     "name": "stdout",
     "output_type": "stream",
     "text": [
      "{1, 2, 3, 4, 5, 100}\n"
     ]
    }
   ],
   "source": [
    "sVal.add(100)\n",
    "print(sVal)"
   ]
  },
  {
   "cell_type": "code",
   "execution_count": 72,
   "id": "58ddb941",
   "metadata": {},
   "outputs": [
    {
     "name": "stdout",
     "output_type": "stream",
     "text": [
      "{1, 2, 3, 4, 5, 100, 200, 300}\n"
     ]
    }
   ],
   "source": [
    "sVal.update([200, 300])\n",
    "print(sVal)"
   ]
  },
  {
   "cell_type": "code",
   "execution_count": 73,
   "id": "e576deb3",
   "metadata": {},
   "outputs": [
    {
     "name": "stdout",
     "output_type": "stream",
     "text": [
      "{1, 2, 3, 4, 5, 100, 300}\n"
     ]
    }
   ],
   "source": [
    "sVal.remove(200)\n",
    "print(sVal)"
   ]
  },
  {
   "cell_type": "code",
   "execution_count": 74,
   "id": "e2c8e0ae",
   "metadata": {},
   "outputs": [
    {
     "name": "stdout",
     "output_type": "stream",
     "text": [
      "set()\n"
     ]
    }
   ],
   "source": [
    "sVal.clear()\n",
    "print(sVal)"
   ]
  },
  {
   "cell_type": "code",
   "execution_count": 75,
   "id": "952e5625",
   "metadata": {},
   "outputs": [
    {
     "name": "stdout",
     "output_type": "stream",
     "text": [
      "{400, 100, 500, 200, 300}\n",
      "{'b', 100, 'c', 300, 'a'}\n"
     ]
    }
   ],
   "source": [
    "sVal = {100, 200, 300, 400, 500}\n",
    "sData = {\"a\", \"b\", \"c\", \"c\", 100, 300}\n",
    "print(sVal)\n",
    "print(sData)"
   ]
  },
  {
   "cell_type": "code",
   "execution_count": 76,
   "id": "b1fe9e34",
   "metadata": {},
   "outputs": [
    {
     "data": {
      "text/plain": [
       "{100, 300}"
      ]
     },
     "execution_count": 76,
     "metadata": {},
     "output_type": "execute_result"
    }
   ],
   "source": [
    "sVal.intersection(sData)"
   ]
  },
  {
   "cell_type": "code",
   "execution_count": 77,
   "id": "12b58cdc",
   "metadata": {},
   "outputs": [
    {
     "data": {
      "text/plain": [
       "{200, 400, 500}"
      ]
     },
     "execution_count": 77,
     "metadata": {},
     "output_type": "execute_result"
    }
   ],
   "source": [
    "sVal.difference(sData)"
   ]
  },
  {
   "cell_type": "code",
   "execution_count": 78,
   "id": "047902d6",
   "metadata": {},
   "outputs": [
    {
     "data": {
      "text/plain": [
       "{200, 400, 500}"
      ]
     },
     "execution_count": 78,
     "metadata": {},
     "output_type": "execute_result"
    }
   ],
   "source": [
    "sVal - sData"
   ]
  },
  {
   "cell_type": "code",
   "execution_count": 79,
   "id": "80a3444e",
   "metadata": {},
   "outputs": [
    {
     "data": {
      "text/plain": [
       "{100, 200, 300, 400, 500, 'a', 'b', 'c'}"
      ]
     },
     "execution_count": 79,
     "metadata": {},
     "output_type": "execute_result"
    }
   ],
   "source": [
    "sVal.union(sData)"
   ]
  },
  {
   "cell_type": "code",
   "execution_count": 80,
   "id": "243b5157",
   "metadata": {},
   "outputs": [
    {
     "ename": "TypeError",
     "evalue": "unsupported operand type(s) for +: 'set' and 'set'",
     "output_type": "error",
     "traceback": [
      "\u001b[1;31m---------------------------------------------------------------------------\u001b[0m",
      "\u001b[1;31mTypeError\u001b[0m                                 Traceback (most recent call last)",
      "Input \u001b[1;32mIn [80]\u001b[0m, in \u001b[0;36m<cell line: 1>\u001b[1;34m()\u001b[0m\n\u001b[1;32m----> 1\u001b[0m \u001b[43msVal\u001b[49m\u001b[43m \u001b[49m\u001b[38;5;241;43m+\u001b[39;49m\u001b[43m \u001b[49m\u001b[43msData\u001b[49m\n",
      "\u001b[1;31mTypeError\u001b[0m: unsupported operand type(s) for +: 'set' and 'set'"
     ]
    }
   ],
   "source": [
    "sVal + sData"
   ]
  },
  {
   "cell_type": "code",
   "execution_count": 81,
   "id": "5026ee0a",
   "metadata": {},
   "outputs": [
    {
     "data": {
      "text/plain": [
       "{200, 400, 500, 'a', 'b', 'c'}"
      ]
     },
     "execution_count": 81,
     "metadata": {},
     "output_type": "execute_result"
    }
   ],
   "source": [
    "sVal.symmetric_difference(sData)"
   ]
  },
  {
   "cell_type": "code",
   "execution_count": 82,
   "id": "b18609d7",
   "metadata": {},
   "outputs": [
    {
     "name": "stdout",
     "output_type": "stream",
     "text": [
      "{'name': '이컴공', 'email': 'computer@hoseo.edu', 'address': '충남 아산시'}\n",
      "<class 'dict'>\n"
     ]
    }
   ],
   "source": [
    "dVal = {\n",
    "    'name' : '이컴공',\n",
    "    'email' : 'computer@hoseo.edu',\n",
    "    'address' : '충남 아산시'\n",
    "}\n",
    "print(dVal)\n",
    "print(type(dVal))"
   ]
  },
  {
   "cell_type": "code",
   "execution_count": 83,
   "id": "c99a650a",
   "metadata": {},
   "outputs": [],
   "source": [
    "dData = {\n",
    "    \"사과\" : 300, \n",
    "    \"포도\" : 200, \n",
    "    \"배\" : 500,\n",
    "    \"키위\" : 100\n",
    "}"
   ]
  },
  {
   "cell_type": "code",
   "execution_count": 84,
   "id": "efa9cfae",
   "metadata": {},
   "outputs": [
    {
     "name": "stdout",
     "output_type": "stream",
     "text": [
      "500\n"
     ]
    }
   ],
   "source": [
    "print(dData[\"배\"])"
   ]
  },
  {
   "cell_type": "code",
   "execution_count": 85,
   "id": "78fb4d90",
   "metadata": {},
   "outputs": [
    {
     "data": {
      "text/plain": [
       "500"
      ]
     },
     "execution_count": 85,
     "metadata": {},
     "output_type": "execute_result"
    }
   ],
   "source": [
    "dData.get(\"배\")"
   ]
  },
  {
   "cell_type": "code",
   "execution_count": 86,
   "id": "884bb0fa",
   "metadata": {},
   "outputs": [
    {
     "name": "stdout",
     "output_type": "stream",
     "text": [
      "{'사과': 300, '포도': 200, '배': 500, '키위': 100, '딸기': 100}\n"
     ]
    }
   ],
   "source": [
    "dData[\"딸기\"] = 100\n",
    "print(dData)"
   ]
  },
  {
   "cell_type": "code",
   "execution_count": 87,
   "id": "e55e6b45",
   "metadata": {},
   "outputs": [
    {
     "data": {
      "text/plain": [
       "300"
      ]
     },
     "execution_count": 87,
     "metadata": {},
     "output_type": "execute_result"
    }
   ],
   "source": [
    "dData.pop(\"사과\")"
   ]
  },
  {
   "cell_type": "code",
   "execution_count": 88,
   "id": "b716609c",
   "metadata": {},
   "outputs": [
    {
     "data": {
      "text/plain": [
       "{'포도': 200, '배': 500, '키위': 100, '딸기': 100}"
      ]
     },
     "execution_count": 88,
     "metadata": {},
     "output_type": "execute_result"
    }
   ],
   "source": [
    "dData"
   ]
  },
  {
   "cell_type": "code",
   "execution_count": 89,
   "id": "d04bd684",
   "metadata": {},
   "outputs": [
    {
     "ename": "TypeError",
     "evalue": "pop expected at least 1 argument, got 0",
     "output_type": "error",
     "traceback": [
      "\u001b[1;31m---------------------------------------------------------------------------\u001b[0m",
      "\u001b[1;31mTypeError\u001b[0m                                 Traceback (most recent call last)",
      "Input \u001b[1;32mIn [89]\u001b[0m, in \u001b[0;36m<cell line: 1>\u001b[1;34m()\u001b[0m\n\u001b[1;32m----> 1\u001b[0m \u001b[43mdData\u001b[49m\u001b[38;5;241;43m.\u001b[39;49m\u001b[43mpop\u001b[49m\u001b[43m(\u001b[49m\u001b[43m)\u001b[49m\n",
      "\u001b[1;31mTypeError\u001b[0m: pop expected at least 1 argument, got 0"
     ]
    }
   ],
   "source": [
    "dData.pop()"
   ]
  },
  {
   "cell_type": "code",
   "execution_count": 90,
   "id": "d4ee4275",
   "metadata": {},
   "outputs": [
    {
     "data": {
      "text/plain": [
       "['딸기', '배', '키위', '포도']"
      ]
     },
     "execution_count": 90,
     "metadata": {},
     "output_type": "execute_result"
    }
   ],
   "source": [
    "sorted(dData)"
   ]
  },
  {
   "cell_type": "code",
   "execution_count": 91,
   "id": "0c5c9560",
   "metadata": {},
   "outputs": [
    {
     "data": {
      "text/plain": [
       "[100, 100, 200, 500]"
      ]
     },
     "execution_count": 91,
     "metadata": {},
     "output_type": "execute_result"
    }
   ],
   "source": [
    "sorted(dData.values())"
   ]
  },
  {
   "cell_type": "code",
   "execution_count": 92,
   "id": "10fd9de5",
   "metadata": {},
   "outputs": [
    {
     "data": {
      "text/plain": [
       "{'포도': 200, '배': 500, '키위': 100, '딸기': 100}"
      ]
     },
     "execution_count": 92,
     "metadata": {},
     "output_type": "execute_result"
    }
   ],
   "source": [
    "dData"
   ]
  },
  {
   "cell_type": "code",
   "execution_count": 93,
   "id": "44f99ad3",
   "metadata": {},
   "outputs": [],
   "source": [
    "def f(x):\n",
    "  return x + 10"
   ]
  },
  {
   "cell_type": "code",
   "execution_count": 94,
   "id": "ec39a29d",
   "metadata": {},
   "outputs": [
    {
     "data": {
      "text/plain": [
       "12"
      ]
     },
     "execution_count": 94,
     "metadata": {},
     "output_type": "execute_result"
    }
   ],
   "source": [
    "f(2)"
   ]
  }
 ],
 "metadata": {
  "kernelspec": {
   "display_name": "Python 3 (ipykernel)",
   "language": "python",
   "name": "python3"
  },
  "language_info": {
   "codemirror_mode": {
    "name": "ipython",
    "version": 3
   },
   "file_extension": ".py",
   "mimetype": "text/x-python",
   "name": "python",
   "nbconvert_exporter": "python",
   "pygments_lexer": "ipython3",
   "version": "3.9.12"
  }
 },
 "nbformat": 4,
 "nbformat_minor": 5
}
